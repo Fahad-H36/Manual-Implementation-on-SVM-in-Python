{
  "cells": [
    {
      "cell_type": "markdown",
      "metadata": {
        "id": "view-in-github",
        "colab_type": "text"
      },
      "source": [
        "<a href=\"https://colab.research.google.com/github/Fahad-H36/Manual-Implementation-on-SVM-in-Python/blob/main/SVM_Manually.ipynb\" target=\"_parent\"><img src=\"https://colab.research.google.com/assets/colab-badge.svg\" alt=\"Open In Colab\"/></a>"
      ]
    },
    {
      "cell_type": "code",
      "execution_count": 1,
      "metadata": {
        "id": "yDcokD304_NO"
      },
      "outputs": [],
      "source": [
        "import numpy as np\n",
        "import matplotlib.pyplot as plt\n",
        "from matplotlib import style"
      ]
    },
    {
      "cell_type": "code",
      "execution_count": 2,
      "metadata": {
        "id": "hNecfQnG4_NT"
      },
      "outputs": [],
      "source": [
        "style.use('ggplot')"
      ]
    },
    {
      "cell_type": "code",
      "execution_count": 3,
      "metadata": {
        "id": "ClQamBSJ4_NU"
      },
      "outputs": [],
      "source": [
        "class SVM:\n",
        "    def __init__(self, visualization=True):\n",
        "        \n",
        "        self.visualization = visualization\n",
        "        self.colors = {1:'r', -1:'b'}\n",
        "        \n",
        "        if self.visualization:\n",
        "            self.fig = plt.figure()\n",
        "            self.ax = self.fig.add_subplot(1,1,1)\n",
        "    \n",
        "    def fit(self, data):\n",
        "        self.data = data\n",
        "        opt_dict = {}\n",
        "        \n",
        "        transforms = [[1,1],[1,-1],[-1,1],[-1,-1]]\n",
        "        \n",
        "        self.max_feature_value = None\n",
        "        self.min_feature_value = None\n",
        "        for i in self.data:\n",
        "            for featureset in self.data[i]:\n",
        "                for feature in featureset:\n",
        "                    if self.max_feature_value == None and self.min_feature_value == None:\n",
        "                        self.max_feature_value = feature\n",
        "                        self.min_feature_value = feature\n",
        "                    else:\n",
        "                        if feature > self.max_feature_value:\n",
        "                            self.max_feature_value = feature\n",
        "                \n",
        "                        if feature < self.min_feature_value:\n",
        "                            self.min_feature_value = feature\n",
        "        \n",
        "        step_sizes = [self.max_feature_value*0.1,\n",
        "                      self.max_feature_value*0.01,\n",
        "                      self.max_feature_value*0.001]\n",
        "        \n",
        "        b_range_multiple = 5\n",
        "        b_multiple = 5\n",
        "        \n",
        "        latest_optimum = self.max_feature_value*10\n",
        "        \n",
        "        for step in step_sizes:\n",
        "            w = np.array([latest_optimum,latest_optimum])\n",
        "            optimized = False\n",
        "            while not optimized:\n",
        "                for b in np.arange(-1*(self.max_feature_value*b_range_multiple), self.max_feature_value*b_range_multiple,\n",
        "                                    step*b_multiple):\n",
        "                    for transformation in transforms:\n",
        "                        w_t = w*transformation\n",
        "                        found_option = True\n",
        "                        for yi in self.data:\n",
        "                            for xi in self.data[yi]:\n",
        "                                if not yi*(np.dot(w_t,xi)+b) >=1:\n",
        "                                    found_option = False\n",
        "                                    break\n",
        "                                if not found_option:\n",
        "                                    break\n",
        "                            if not found_option:\n",
        "                                    break\n",
        "\n",
        "                        \n",
        "                        if found_option:\n",
        "                            opt_dict[np.linalg.norm(w_t)] = [w_t,b]\n",
        "                \n",
        "                if w[0] < 0:\n",
        "                    optimized = True\n",
        "                    print(\"Optimized a step\")\n",
        "                else:\n",
        "                    w = w-step\n",
        "            \n",
        "            norms = sorted([n for n in opt_dict])\n",
        "            \n",
        "            opt_choice = opt_dict[norms[0]]\n",
        "            self.w = opt_choice[0]\n",
        "            self.b = opt_choice[1]\n",
        "            latest_optimum = opt_choice[0][0]+step*2\n",
        "        \n",
        "        for yi in self.data:\n",
        "            for xi in self.data[yi]:\n",
        "                print(xi,\": \", yi*(np.dot(self.w,xi)+self.b))\n",
        "        \n",
        "        \n",
        "        \n",
        "        \n",
        "    \n",
        "    def predict(self, features):\n",
        "        \n",
        "        #sign of (x.w+b)\n",
        "        \n",
        "        classification = np.sign(np.dot(np.array(features), self.w)+self.b)\n",
        "        if classification != 0 and self.visualization:\n",
        "            self.ax.scatter(features[0],features[1], s=200, marker='*', c = self.colors[classification])\n",
        "                \n",
        "        return classification\n",
        "    \n",
        "    def visualize(self):\n",
        "        [[self.ax.scatter(x[0],x[1], s=100, color=self.colors[i]) for x in self.data[i]] for i in self.data]\n",
        "        \n",
        "        def hyperplane(x,w,b,v):\n",
        "            return (-w[0]*x-b+v) / w[1]\n",
        "        \n",
        "        datarange = [self.min_feature_value*0.9, self.max_feature_value*1.1]\n",
        "        hyp_x_min = datarange[0]\n",
        "        hyp_x_max = datarange[1]\n",
        "        \n",
        "        \n",
        "        psv1 = hyperplane(hyp_x_min, self.w, self.b, 1)\n",
        "        psv2 = hyperplane(hyp_x_max, self.w, self.b, 1)\n",
        "        self.ax.plot([hyp_x_min,hyp_x_max], [psv1,psv2])\n",
        "    \n",
        "        \n",
        "        nsv1 = hyperplane(hyp_x_min, self.w, self.b, -1)\n",
        "        nsv2 = hyperplane(hyp_x_max, self.w, self.b, -1)\n",
        "        self.ax.plot([hyp_x_min,hyp_x_max], [nsv1,nsv2])\n",
        "\n",
        "                \n",
        "        db1 = hyperplane(hyp_x_min, self.w, self.b, 0)\n",
        "        db2 = hyperplane(hyp_x_max, self.w, self.b, 0)\n",
        "        self.ax.plot([hyp_x_min,hyp_x_max], [db1,db2])\n",
        "        \n",
        "        plt.show()\n",
        "    \n",
        "    \n",
        "    "
      ]
    },
    {
      "cell_type": "code",
      "execution_count": 4,
      "metadata": {
        "colab": {
          "base_uri": "https://localhost:8080/",
          "height": 421
        },
        "id": "Wj4uQQNv4_NY",
        "outputId": "ccf27eea-c65d-410f-85a0-b38eb8f10124"
      },
      "outputs": [
        {
          "output_type": "stream",
          "name": "stdout",
          "text": [
            "Optimized a step\n",
            "Optimized a step\n",
            "Optimized a step\n",
            "[1, -3] :  3.0300000000026994\n",
            "[2, 1] :  1.580000000002708\n",
            "[3, 2] :  1.0000000000027112\n",
            "[7, 5] :  1.029999999997277\n",
            "[9, 6] :  1.8999999999972719\n",
            "[10, 9] :  3.059999999997265\n"
          ]
        },
        {
          "output_type": "display_data",
          "data": {
            "text/plain": [
              "<Figure size 432x288 with 1 Axes>"
            ],
            "image/png": "[encoded data removed]"
          },
          "metadata": {}
        }
      ],
      "source": [
        "sample_data = {-1:[[1,-3],[2,1],[3,2]], 1:[[7,5], [9,6], [10,9]]}\n",
        "\n",
        "svm = SVM()\n",
        "\n",
        "svm.fit(data=sample_data)\n",
        "\n",
        "\n",
        "predict_data = [[1,3],[0,0],[8,1],[9,2],[2,4]]\n",
        "\n",
        "for p in predict_data:\n",
        "        svm.predict(p)\n",
        "\n",
        "svm.visualize()\n",
        "\n",
        "\n",
        "\n",
        "# for i in sample_data:\n",
        "#     for featureset in sample_data[i]:\n",
        "#         for feature in featureset:\n",
        "#             if maxi == None and mini == None:\n",
        "#                 maxi = feature\n",
        "#                 mini = feature\n",
        "#             else:\n",
        "#                 if feature > maxi:\n",
        "#                     maxi = feature\n",
        "                \n",
        "#                 if feature < mini:\n",
        "#                     mini = feature\n",
        "                    \n",
        "                    \n",
        "# print(maxi, mini)\n",
        "\n",
        "#maxi = None\n",
        "#mini = None\n",
        "# for i in sample_data:\n",
        "    \n",
        "#     if maxi == None and mini == None:\n",
        "        \n",
        "#         maxi = max(sample_data[i])\n",
        "#         mini = min(sample_data[i])\n",
        "#     else:\n",
        "#         if max(sample_data[i]) > maxi:\n",
        "#             maxi = max(sample_data[i])\n",
        "        \n",
        "#         if min(sample_data[i]) < mini:\n",
        "#             mini = min(sample_data[i])\n",
        "\n"
      ]
    },
    {
      "cell_type": "code",
      "execution_count": 4,
      "metadata": {
        "id": "eaab5tEz4_Na"
      },
      "outputs": [],
      "source": []
    },
    {
      "cell_type": "code",
      "execution_count": null,
      "metadata": {
        "id": "LrPrCwbA4_Nb"
      },
      "outputs": [],
      "source": []
    }
  ],
  "metadata": {
    "kernelspec": {
      "display_name": "Python 3",
      "language": "python",
      "name": "python3"
    },
    "language_info": {
      "codemirror_mode": {
        "name": "ipython",
        "version": 3
      },
      "file_extension": ".py",
      "mimetype": "text/x-python",
      "name": "python",
      "nbconvert_exporter": "python",
      "pygments_lexer": "ipython3",
      "version": "3.8.3"
    },
    "colab": {
      "provenance": [],
      "include_colab_link": true
    }
  },
  "nbformat": 4,
  "nbformat_minor": 0
}